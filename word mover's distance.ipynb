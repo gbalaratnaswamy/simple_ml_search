{
  "nbformat": 4,
  "nbformat_minor": 0,
  "metadata": {
    "colab": {
      "name": "Untitled1.ipynb",
      "provenance": []
    },
    "kernelspec": {
      "name": "python3",
      "display_name": "Python 3"
    }
  },
  "cells": [
    {
      "cell_type": "code",
      "metadata": {
        "id": "C_5Rf6-mXLKn",
        "colab_type": "code",
        "colab": {}
      },
      "source": [
        "import numpy as np"
      ],
      "execution_count": 38,
      "outputs": []
    },
    {
      "cell_type": "code",
      "metadata": {
        "id": "UECIfhAyXUiJ",
        "colab_type": "code",
        "colab": {}
      },
      "source": [
        "X = np.random.rand(10, 2)\n",
        "Y = np.random.rand(10, 2)"
      ],
      "execution_count": 39,
      "outputs": []
    },
    {
      "cell_type": "code",
      "metadata": {
        "id": "ce-3KnMWYRX7",
        "colab_type": "code",
        "colab": {
          "base_uri": "https://localhost:8080/",
          "height": 285
        },
        "outputId": "c0ab8dae-9a84-4931-8c15-123c92e16f9a"
      },
      "source": [
        "%matplotlib inline\n",
        "import matplotlib.pyplot as plt\n",
        "import seaborn; seaborn.set() # Plot styling\n",
        "plt.scatter(X[:, 0], X[:, 1], s=100)\n",
        "plt.scatter(Y[:, 0], Y[:, 1], s=100)"
      ],
      "execution_count": 40,
      "outputs": [
        {
          "output_type": "execute_result",
          "data": {
            "text/plain": [
              "<matplotlib.collections.PathCollection at 0x7f27cdef45f8>"
            ]
          },
          "metadata": {
            "tags": []
          },
          "execution_count": 40
        },
        {
          "output_type": "display_data",
          "data": {
            "image/png": "[encoded data removed]",
            "text/plain": [
              "<Figure size 432x288 with 1 Axes>"
            ]
          },
          "metadata": {
            "tags": []
          }
        }
      ]
    },
    {
      "cell_type": "code",
      "metadata": {
        "id": "UmihRDJnXpZ1",
        "colab_type": "code",
        "colab": {}
      },
      "source": [
        "dist = np.sum((Y[:, np.newaxis, :] - X[np.newaxis, :, :]) ** 2, axis=-1)"
      ],
      "execution_count": 49,
      "outputs": []
    },
    {
      "cell_type": "code",
      "metadata": {
        "id": "UC3ZlA8bYtyG",
        "colab_type": "code",
        "colab": {
          "base_uri": "https://localhost:8080/",
          "height": 353
        },
        "outputId": "2b3e8087-1668-4baa-831a-00d3549d3d76"
      },
      "source": [
        "dist"
      ],
      "execution_count": 48,
      "outputs": [
        {
          "output_type": "execute_result",
          "data": {
            "text/plain": [
              "array([[0.00275756, 0.04472332, 0.08314561, 0.09854986, 0.25028344,\n",
              "        0.30349009, 0.34531718, 0.39698552, 0.47236062, 0.77524102],\n",
              "       [0.07461569, 0.08926295, 0.102639  , 0.2942238 , 0.33137917,\n",
              "        0.47744378, 0.55458541, 0.59692926, 0.76946078, 0.83295896],\n",
              "       [0.02922975, 0.05537778, 0.10025566, 0.19298976, 0.19786966,\n",
              "        0.27079426, 0.40019291, 0.41444796, 0.51020825, 0.55181046],\n",
              "       [0.05162941, 0.077421  , 0.15072   , 0.21325971, 0.26249044,\n",
              "        0.29086714, 0.36217166, 0.52497259, 0.52751484, 0.92219638],\n",
              "       [0.01494324, 0.02744776, 0.10989291, 0.15608732, 0.18997794,\n",
              "        0.19448873, 0.20178615, 0.3732845 , 0.38942253, 0.48543912],\n",
              "       [0.00433652, 0.03345747, 0.0490252 , 0.08046469, 0.16468585,\n",
              "        0.16582907, 0.17442774, 0.22757803, 0.25643029, 0.30949975],\n",
              "       [0.21162505, 0.39684373, 0.4483111 , 0.50414432, 0.55769442,\n",
              "        0.82079979, 0.96485744, 0.99433859, 1.11803144, 1.71822435],\n",
              "       [0.0336255 , 0.13079885, 0.16337736, 0.17087682, 0.30979414,\n",
              "        0.44072442, 0.50729744, 0.53174773, 0.58093469, 0.87069341],\n",
              "       [0.04268219, 0.05709944, 0.0948865 , 0.09740305, 0.11257731,\n",
              "        0.29019085, 0.30183129, 0.33671741, 0.38085966, 0.55573773],\n",
              "       [0.09006505, 0.13194914, 0.14917616, 0.26407375, 0.31455838,\n",
              "        0.42063786, 0.43692697, 0.56910709, 0.70576472, 0.72227819]])"
            ]
          },
          "metadata": {
            "tags": []
          },
          "execution_count": 48
        }
      ]
    },
    {
      "cell_type": "code",
      "metadata": {
        "id": "u-3BZyTjXymr",
        "colab_type": "code",
        "colab": {}
      },
      "source": [
        "nearest = np.argsort(dist, axis=1)\n",
        "a=dist[nearest]\n",
        "dist.sort()"
      ],
      "execution_count": 47,
      "outputs": []
    },
    {
      "cell_type": "code",
      "metadata": {
        "id": "WUJPq8XQX8C3",
        "colab_type": "code",
        "colab": {
          "base_uri": "https://localhost:8080/",
          "height": 185
        },
        "outputId": "420614ec-59a9-466a-b6a0-a5d54144472c"
      },
      "source": [
        "nearest_partition"
      ],
      "execution_count": 9,
      "outputs": [
        {
          "output_type": "execute_result",
          "data": {
            "text/plain": [
              "array([[7, 4, 2, 8, 1, 0, 6, 9, 3, 5],\n",
              "       [5, 8, 2, 6, 1, 3, 0, 7, 4, 9],\n",
              "       [7, 9, 8, 3, 4, 2, 0, 6, 5, 1],\n",
              "       [7, 0, 9, 1, 4, 2, 6, 5, 8, 3],\n",
              "       [5, 8, 2, 6, 3, 1, 7, 0, 4, 9],\n",
              "       [0, 4, 6, 2, 1, 7, 9, 3, 8, 5],\n",
              "       [1, 7, 2, 6, 8, 0, 3, 5, 9, 4],\n",
              "       [6, 0, 2, 7, 9, 1, 4, 8, 3, 5],\n",
              "       [5, 6, 2, 4, 8, 3, 1, 0, 7, 9],\n",
              "       [6, 4, 2, 8, 1, 0, 9, 5, 3, 7]])"
            ]
          },
          "metadata": {
            "tags": []
          },
          "execution_count": 9
        }
      ]
    },
    {
      "cell_type": "code",
      "metadata": {
        "id": "GLGxo4RCX88g",
        "colab_type": "code",
        "colab": {
          "base_uri": "https://localhost:8080/",
          "height": 268
        },
        "outputId": "a5ebb908-801d-4f40-b921-513a843fee18"
      },
      "source": [
        "plt.scatter(X[:, 0], X[:, 1], s=100)\n",
        "plt.scatter(Y[:, 0], Y[:, 1], s=100)\n",
        "K = 1\n",
        "\n",
        "for i in range(X.shape[0]):\n",
        "\n",
        "  j=nearest[i, 0]\n",
        "  plt.plot(*zip(X[j], Y[i]), color='black')"
      ],
      "execution_count": 57,
      "outputs": [
        {
          "output_type": "display_data",
          "data": {
            "image/png": "[encoded data removed]",
            "text/plain": [
              "<Figure size 432x288 with 1 Axes>"
            ]
          },
          "metadata": {
            "tags": []
          }
        }
      ]
    },
    {
      "cell_type": "code",
      "metadata": {
        "id": "IooMLx3Pbacs",
        "colab_type": "code",
        "colab": {}
      },
      "source": [
        ""
      ],
      "execution_count": null,
      "outputs": []
    }
  ]
}