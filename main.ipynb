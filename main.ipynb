{
  "nbformat": 4,
  "nbformat_minor": 0,
  "metadata": {
    "colab": {
      "name": "Untitled1.ipynb",
      "provenance": []
    },
    "kernelspec": {
      "name": "python3",
      "display_name": "Python 3"
    }
  },
  "cells": [
    {
      "cell_type": "code",
      "metadata": {
        "id": "3FysMZDW0L8Z",
        "colab_type": "code",
        "colab": {}
      },
      "source": [
        "import tensorflow as tf\n",
        "import tensorflow_hub as hub\n",
        "import numpy as np\n",
        "module_url = \"https://tfhub.dev/google/universal-sentence-encoder/4\" \n",
        "model = hub.load(module_url)"
      ],
      "execution_count": 1,
      "outputs": []
    },
    {
      "cell_type": "code",
      "metadata": {
        "id": "ji1gJgZW2i9k",
        "colab_type": "code",
        "colab": {}
      },
      "source": [
        "def search(search_text,topics_embed):\n",
        "  search_embed=model([search_text])\n",
        "  similarity=np.inner(search_embed,topics_embed)\n",
        "  return similarity"
      ],
      "execution_count": 2,
      "outputs": []
    },
    {
      "cell_type": "code",
      "metadata": {
        "id": "HdV0vtDg0gxF",
        "colab_type": "code",
        "colab": {}
      },
      "source": [
        "\n",
        "topics=np.array([\n",
        "        \"basics of python\",\n",
        "        \"basics of numpy\",\n",
        "        \"machine learning basics\",\n",
        "        \"machine learning advanced\",\n",
        "        \"tensorflow basics\",\n",
        "        \"lists/arrays in python\",\n",
        "        \"advanced python\",\n",
        "        \"tuples in python\",\n",
        "        \"keras tensorflow api\",\n",
        "        \"keras sequenial\",\n",
        "])\n",
        "topics_embeded=model(topics)"
      ],
      "execution_count": 3,
      "outputs": []
    },
    {
      "cell_type": "code",
      "metadata": {
        "id": "kLauY3K-0jFy",
        "colab_type": "code",
        "colab": {}
      },
      "source": [
        "res=search(\"machine learning with tensorflow\",topics_embeded)\n",
        "res=res[0]\n",
        "order=res[::-1].argsort()"
      ],
      "execution_count": 4,
      "outputs": []
    },
    {
      "cell_type": "code",
      "metadata": {
        "id": "Ix0BWXih6eqY",
        "colab_type": "code",
        "colab": {
          "base_uri": "https://localhost:8080/",
          "height": 67
        },
        "outputId": "761666ba-413a-4fec-8a11-ab7aa5f26986"
      },
      "source": [
        "\n",
        "topics[res.argsort()[:-6:-1]]"
      ],
      "execution_count": 5,
      "outputs": [
        {
          "output_type": "execute_result",
          "data": {
            "text/plain": [
              "array(['tensorflow basics', 'keras tensorflow api',\n",
              "       'machine learning advanced', 'keras sequenial',\n",
              "       'machine learning basics'], dtype='<U25')"
            ]
          },
          "metadata": {
            "tags": []
          },
          "execution_count": 5
        }
      ]
    },
    {
      "cell_type": "code",
      "metadata": {
        "id": "7ozId00o6q5E",
        "colab_type": "code",
        "colab": {}
      },
      "source": [
        ""
      ],
      "execution_count": null,
      "outputs": []
    }
  ]
}